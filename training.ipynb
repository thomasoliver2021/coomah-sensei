{
  "nbformat": 4,
  "nbformat_minor": 0,
  "metadata": {
    "colab": {
      "name": "training.ipynb",
      "provenance": []
    },
    "kernelspec": {
      "name": "python3",
      "display_name": "Python 3"
    },
    "language_info": {
      "name": "python"
    }
  },
  "cells": [
    {
      "cell_type": "markdown",
      "metadata": {
        "id": "Y-34L5YiL8NV"
      },
      "source": [
        "# クマー先生\n",
        "クマー先生 (Coomah Sensei) is a conversational AI for people learning Japanese!\n",
        "\n",
        "If you are here, you're looking to help with training. Thank you very much :)"
      ]
    },
    {
      "cell_type": "markdown",
      "metadata": {
        "id": "JRObKk_pMNwN"
      },
      "source": [
        "# Clone git repo"
      ]
    },
    {
      "cell_type": "code",
      "metadata": {
        "colab": {
          "base_uri": "https://localhost:8080/"
        },
        "id": "gHIGVzo3MZn3",
        "outputId": "49a11744-17b7-40d9-9964-a896d323dcb6"
      },
      "source": [
        "!git clone https://github.com/thomasoliver2021/coomah-sensei.git"
      ],
      "execution_count": null,
      "outputs": [
        {
          "output_type": "stream",
          "text": [
            "Cloning into 'coomah-sensei'...\n",
            "remote: Enumerating objects: 25, done.\u001b[K\n",
            "remote: Counting objects: 100% (25/25), done.\u001b[K\n",
            "remote: Compressing objects: 100% (18/18), done.\u001b[K\n",
            "remote: Total 25 (delta 3), reused 17 (delta 1), pack-reused 0\u001b[K\n",
            "Unpacking objects: 100% (25/25), done.\n"
          ],
          "name": "stdout"
        }
      ]
    },
    {
      "cell_type": "code",
      "metadata": {
        "id": "iyAuysMWNOxs"
      },
      "source": [
        "%cd coomah-sensei"
      ],
      "execution_count": null,
      "outputs": []
    },
    {
      "cell_type": "markdown",
      "metadata": {
        "id": "ATl2faitM4hn"
      },
      "source": [
        "# Install necessary packages"
      ]
    },
    {
      "cell_type": "code",
      "metadata": {
        "id": "yyYBenUVM38q"
      },
      "source": [
        "pip install fugashi[unidic] transformers torch tensorflow\n",
        "python -m unidic download"
      ],
      "execution_count": null,
      "outputs": []
    },
    {
      "cell_type": "markdown",
      "metadata": {
        "id": "iFKXVCY4NC02"
      },
      "source": [
        "# 話しましょう！ (Let's talk!)"
      ]
    },
    {
      "cell_type": "code",
      "metadata": {
        "id": "3RgbcvhNNMiE"
      },
      "source": [
        "!python eval.py"
      ],
      "execution_count": null,
      "outputs": []
    }
  ]
}