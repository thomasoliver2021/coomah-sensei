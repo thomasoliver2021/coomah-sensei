{
  "nbformat": 4,
  "nbformat_minor": 0,
  "metadata": {
    "colab": {
      "name": "training.ipynb",
      "provenance": [],
      "collapsed_sections": []
    },
    "kernelspec": {
      "name": "python3",
      "display_name": "Python 3"
    },
    "language_info": {
      "name": "python"
    }
  },
  "cells": [
    {
      "cell_type": "markdown",
      "metadata": {
        "id": "Y-34L5YiL8NV"
      },
      "source": [
        "# クマー先生\n",
        "クマー先生 (Coomah Sensei) is a conversational AI for people learning Japanese!\n",
        "\n",
        "If you are here, you're looking to help with training. Thank you very much :)"
      ]
    },
    {
      "cell_type": "markdown",
      "metadata": {
        "id": "JRObKk_pMNwN"
      },
      "source": [
        "# Clone git repo"
      ]
    },
    {
      "cell_type": "code",
      "metadata": {
        "id": "gHIGVzo3MZn3"
      },
      "source": [
        "!git clone https://github.com/thomasoliver2021/coomah-sensei.git"
      ],
      "execution_count": null,
      "outputs": []
    },
    {
      "cell_type": "code",
      "metadata": {
        "id": "iyAuysMWNOxs"
      },
      "source": [
        "import os\n",
        "os.chdir(\"/content/coomah-sensei\")\n",
        "os.mkdir(\"./logs\")"
      ],
      "execution_count": 2,
      "outputs": []
    },
    {
      "cell_type": "markdown",
      "metadata": {
        "id": "ATl2faitM4hn"
      },
      "source": [
        "# Install necessary packages"
      ]
    },
    {
      "cell_type": "code",
      "metadata": {
        "id": "PhzRXbPuY_v5"
      },
      "source": [
        "!pip install fugashi[unidic] transformers\n",
        "!python -m unidic download"
      ],
      "execution_count": null,
      "outputs": []
    },
    {
      "cell_type": "markdown",
      "metadata": {
        "id": "iFKXVCY4NC02"
      },
      "source": [
        "# 話しましょう！ (Let's talk!)"
      ]
    },
    {
      "cell_type": "code",
      "metadata": {
        "id": "ogML849vVTj8"
      },
      "source": [
        "# taken from https://github.com/nsadawi/Download-Large-File-From-Google-Drive-Using-Python\n",
        "import requests\n",
        "\n",
        "def download_file_from_google_drive(id, destination):\n",
        "    URL = \"https://docs.google.com/uc?export=download\"\n",
        "\n",
        "    session = requests.Session()\n",
        "\n",
        "    response = session.get(URL, params = { 'id' : id }, stream = True)\n",
        "    token = get_confirm_token(response)\n",
        "\n",
        "    if token:\n",
        "        params = { 'id' : id, 'confirm' : token }\n",
        "        response = session.get(URL, params = params, stream = True)\n",
        "\n",
        "    save_response_content(response, destination)    \n",
        "\n",
        "def get_confirm_token(response):\n",
        "    for key, value in response.cookies.items():\n",
        "        if key.startswith('download_warning'):\n",
        "            return value\n",
        "\n",
        "    return None\n",
        "\n",
        "def save_response_content(response, destination):\n",
        "    CHUNK_SIZE = 32768\n",
        "    with open(destination, \"wb\") as f:\n",
        "        for chunk in response.iter_content(CHUNK_SIZE):\n",
        "            if chunk: # filter out keep-alive new chunks\n",
        "                f.write(chunk)"
      ],
      "execution_count": 4,
      "outputs": []
    },
    {
      "cell_type": "code",
      "metadata": {
        "id": "1LiBWw-_WmyD"
      },
      "source": [
        "file_id = '1SRNkx0HlK0txK2b9ozWiSM-akgyUiNWJ'\n",
        "destination = './output-small/pytorch_model.bin'\n",
        "download_file_from_google_drive(file_id, destination)"
      ],
      "execution_count": 5,
      "outputs": []
    },
    {
      "cell_type": "code",
      "metadata": {
        "id": "3RgbcvhNNMiE"
      },
      "source": [
        "!python eval.py"
      ],
      "execution_count": null,
      "outputs": []
    }
  ]
}